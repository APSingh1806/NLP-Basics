{
  "nbformat": 4,
  "nbformat_minor": 0,
  "metadata": {
    "colab": {
      "provenance": []
    },
    "kernelspec": {
      "name": "python3",
      "display_name": "Python 3"
    },
    "language_info": {
      "name": "python"
    }
  },
  "cells": [
    {
      "cell_type": "code",
      "execution_count": null,
      "metadata": {
        "id": "mZAzZC4pD9rB"
      },
      "outputs": [],
      "source": [
        "import nltk"
      ]
    },
    {
      "cell_type": "code",
      "source": [
        "corpus = \"\"\"Hello Welcome to my first NLP Code.\n",
        "Please let me watch, write code and complete this course this time with full passion! to become expert in NLP.\n",
        "\"\"\""
      ],
      "metadata": {
        "id": "DD6ugznqEcxn"
      },
      "execution_count": null,
      "outputs": []
    },
    {
      "cell_type": "code",
      "source": [
        "print(corpus)"
      ],
      "metadata": {
        "colab": {
          "base_uri": "https://localhost:8080/"
        },
        "id": "cHyKSubmE89c",
        "outputId": "b987807b-7a42-44e7-b3cd-01cabf2a97bf"
      },
      "execution_count": null,
      "outputs": [
        {
          "output_type": "stream",
          "name": "stdout",
          "text": [
            "Hello Welcome to my first NLP Code.\n",
            "Please let me watch, write code and complete this course this time with full passion! to become expert in NLP.\n",
            "\n"
          ]
        }
      ]
    },
    {
      "cell_type": "code",
      "source": [
        "## Tokenization\n",
        "## Sentence --> paragraphs\n",
        "nltk.download('punkt_tab')\n",
        "from nltk.tokenize import sent_tokenize"
      ],
      "metadata": {
        "colab": {
          "base_uri": "https://localhost:8080/"
        },
        "id": "NqKgWMlwFKBR",
        "outputId": "a92d54c6-9c50-4490-d269-e95f987e360a"
      },
      "execution_count": null,
      "outputs": [
        {
          "output_type": "stream",
          "name": "stderr",
          "text": [
            "[nltk_data] Downloading package punkt_tab to /root/nltk_data...\n",
            "[nltk_data]   Unzipping tokenizers/punkt_tab.zip.\n"
          ]
        }
      ]
    },
    {
      "cell_type": "code",
      "source": [
        "sent_tokenize(corpus)"
      ],
      "metadata": {
        "colab": {
          "base_uri": "https://localhost:8080/"
        },
        "id": "XAW_ruHxFuTV",
        "outputId": "c2af11e0-4ef9-4165-adf0-23bf50ff6be8"
      },
      "execution_count": null,
      "outputs": [
        {
          "output_type": "execute_result",
          "data": {
            "text/plain": [
              "['Hello Welcome to my first NLP Code.',\n",
              " 'Please let me watch, write code and complete this course this time with full passion!',\n",
              " 'to become expert in NLP.']"
            ]
          },
          "metadata": {},
          "execution_count": 12
        }
      ]
    },
    {
      "cell_type": "code",
      "source": [
        "documents = sent_tokenize(corpus)"
      ],
      "metadata": {
        "id": "4w6uPIL-F2QO"
      },
      "execution_count": null,
      "outputs": []
    },
    {
      "cell_type": "code",
      "metadata": {
        "colab": {
          "base_uri": "https://localhost:8080/"
        },
        "id": "1364a429",
        "outputId": "2a90b2b9-ae0f-4f04-8169-608c6f3cac19"
      },
      "source": [
        "type(documents)"
      ],
      "execution_count": null,
      "outputs": [
        {
          "output_type": "execute_result",
          "data": {
            "text/plain": [
              "list"
            ]
          },
          "metadata": {},
          "execution_count": 15
        }
      ]
    },
    {
      "cell_type": "code",
      "source": [
        "for sentence in documents:\n",
        "  print(sentence)"
      ],
      "metadata": {
        "colab": {
          "base_uri": "https://localhost:8080/"
        },
        "id": "utLWcPo5G5V7",
        "outputId": "03969a3e-e8db-466e-c527-301708038114"
      },
      "execution_count": null,
      "outputs": [
        {
          "output_type": "stream",
          "name": "stdout",
          "text": [
            "Hello Welcome to my first NLP Code.\n",
            "Please let me watch, write code and complete this course this time with full passion!\n",
            "to become expert in NLP.\n"
          ]
        }
      ]
    },
    {
      "cell_type": "code",
      "source": [
        "## Tokenization\n",
        "## Paragraphs --> words\n",
        "## sentence --> Words\n",
        "from nltk.tokenize import word_tokenize"
      ],
      "metadata": {
        "id": "Zn9Orlb8HEWc"
      },
      "execution_count": null,
      "outputs": []
    },
    {
      "cell_type": "code",
      "source": [
        "word_tokenize(corpus)"
      ],
      "metadata": {
        "colab": {
          "base_uri": "https://localhost:8080/"
        },
        "id": "blLn43tAHdZw",
        "outputId": "b16bbd0a-4f19-4fe8-b233-3d20a2982a19"
      },
      "execution_count": null,
      "outputs": [
        {
          "output_type": "execute_result",
          "data": {
            "text/plain": [
              "['Hello',\n",
              " 'Welcome',\n",
              " 'to',\n",
              " 'my',\n",
              " 'first',\n",
              " 'NLP',\n",
              " 'Code',\n",
              " '.',\n",
              " 'Please',\n",
              " 'let',\n",
              " 'me',\n",
              " 'watch',\n",
              " ',',\n",
              " 'write',\n",
              " 'code',\n",
              " 'and',\n",
              " 'complete',\n",
              " 'this',\n",
              " 'course',\n",
              " 'this',\n",
              " 'time',\n",
              " 'with',\n",
              " 'full',\n",
              " 'passion',\n",
              " '!',\n",
              " 'to',\n",
              " 'become',\n",
              " 'expert',\n",
              " 'in',\n",
              " 'NLP',\n",
              " '.']"
            ]
          },
          "metadata": {},
          "execution_count": 19
        }
      ]
    },
    {
      "cell_type": "code",
      "source": [
        "for sentence in documents:\n",
        "  print(word_tokenize(sentence))"
      ],
      "metadata": {
        "colab": {
          "base_uri": "https://localhost:8080/"
        },
        "id": "cffcaAKcHjTe",
        "outputId": "cf8800eb-ddca-40d3-e30c-e24145de852e"
      },
      "execution_count": null,
      "outputs": [
        {
          "output_type": "stream",
          "name": "stdout",
          "text": [
            "['Hello', 'Welcome', 'to', 'my', 'first', 'NLP', 'Code', '.']\n",
            "['Please', 'let', 'me', 'watch', ',', 'write', 'code', 'and', 'complete', 'this', 'course', 'this', 'time', 'with', 'full', 'passion', '!']\n",
            "['to', 'become', 'expert', 'in', 'NLP', '.']\n"
          ]
        }
      ]
    },
    {
      "cell_type": "code",
      "source": [
        "from nltk.tokenize import wordpunct_tokenize"
      ],
      "metadata": {
        "id": "SNDyoFlqILcS"
      },
      "execution_count": null,
      "outputs": []
    },
    {
      "cell_type": "code",
      "source": [
        "wordpunct_tokenize(corpus)"
      ],
      "metadata": {
        "colab": {
          "base_uri": "https://localhost:8080/"
        },
        "id": "0ZmL5VxZI3Qn",
        "outputId": "7e97777e-76f6-40e2-b1a3-0156a9efa592"
      },
      "execution_count": null,
      "outputs": [
        {
          "output_type": "execute_result",
          "data": {
            "text/plain": [
              "['Hello',\n",
              " 'Welcome',\n",
              " 'to',\n",
              " 'my',\n",
              " 'first',\n",
              " 'NLP',\n",
              " 'Code',\n",
              " '.',\n",
              " 'Please',\n",
              " 'let',\n",
              " 'me',\n",
              " 'watch',\n",
              " ',',\n",
              " 'write',\n",
              " 'code',\n",
              " 'and',\n",
              " 'complete',\n",
              " 'this',\n",
              " 'course',\n",
              " 'this',\n",
              " 'time',\n",
              " 'with',\n",
              " 'full',\n",
              " 'passion',\n",
              " '!',\n",
              " 'to',\n",
              " 'become',\n",
              " 'expert',\n",
              " 'in',\n",
              " 'NLP',\n",
              " '.']"
            ]
          },
          "metadata": {},
          "execution_count": 24
        }
      ]
    },
    {
      "cell_type": "code",
      "source": [
        "from nltk.tokenize import TreebankWordTokenizer"
      ],
      "metadata": {
        "id": "yMMObLS9I8t1"
      },
      "execution_count": null,
      "outputs": []
    },
    {
      "cell_type": "code",
      "source": [
        "tokenizer = TreebankWordTokenizer()"
      ],
      "metadata": {
        "id": "jwnGK1OvJLRJ"
      },
      "execution_count": null,
      "outputs": []
    },
    {
      "cell_type": "code",
      "source": [
        "tokenizer.tokenize(corpus)"
      ],
      "metadata": {
        "colab": {
          "base_uri": "https://localhost:8080/"
        },
        "id": "ByiTYLcrJQ_M",
        "outputId": "924a24b9-90ca-4ad7-b135-80672ac8cdf9"
      },
      "execution_count": null,
      "outputs": [
        {
          "output_type": "execute_result",
          "data": {
            "text/plain": [
              "['Hello',\n",
              " 'Welcome',\n",
              " 'to',\n",
              " 'my',\n",
              " 'first',\n",
              " 'NLP',\n",
              " 'Code.',\n",
              " 'Please',\n",
              " 'let',\n",
              " 'me',\n",
              " 'watch',\n",
              " ',',\n",
              " 'write',\n",
              " 'code',\n",
              " 'and',\n",
              " 'complete',\n",
              " 'this',\n",
              " 'course',\n",
              " 'this',\n",
              " 'time',\n",
              " 'with',\n",
              " 'full',\n",
              " 'passion',\n",
              " '!',\n",
              " 'to',\n",
              " 'become',\n",
              " 'expert',\n",
              " 'in',\n",
              " 'NLP',\n",
              " '.']"
            ]
          },
          "metadata": {},
          "execution_count": 28
        }
      ]
    },
    {
      "cell_type": "code",
      "source": [],
      "metadata": {
        "id": "H3bkjznLJVgk"
      },
      "execution_count": null,
      "outputs": []
    }
  ]
}